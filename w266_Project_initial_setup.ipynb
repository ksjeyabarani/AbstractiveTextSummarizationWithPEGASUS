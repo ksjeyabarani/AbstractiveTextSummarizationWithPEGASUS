{
  "nbformat": 4,
  "nbformat_minor": 0,
  "metadata": {
    "colab": {
      "name": "w266_Project_initial_setup.ipynb",
      "provenance": [],
      "collapsed_sections": [],
      "authorship_tag": "ABX9TyMgrRDrOvpHF3TiQeZ2u8PE",
      "include_colab_link": true
    },
    "kernelspec": {
      "name": "python3",
      "display_name": "Python 3"
    }
  },
  "cells": [
    {
      "cell_type": "markdown",
      "metadata": {
        "id": "view-in-github",
        "colab_type": "text"
      },
      "source": [
        "<a href=\"https://colab.research.google.com/github/ksjeyabarani/W266_Project/blob/master/w266_Project_initial_setup.ipynb\" target=\"_parent\"><img src=\"https://colab.research.google.com/assets/colab-badge.svg\" alt=\"Open In Colab\"/></a>"
      ]
    },
    {
      "cell_type": "markdown",
      "metadata": {
        "id": "CIWnB8FN3x8c",
        "colab_type": "text"
      },
      "source": [
        "\n",
        "We will be using GPUs for all our evaluation. In this notebook, we will setup pegasus repo, download all necessary models. We will be using a google drive for storing all persistent data, repo and results. This would help us reference the resources from other notebooks.\n",
        "\n",
        "\n"
      ]
    },
    {
      "cell_type": "markdown",
      "metadata": {
        "id": "D3B99xTI3__i",
        "colab_type": "text"
      },
      "source": [
        ""
      ]
    },
    {
      "cell_type": "code",
      "metadata": {
        "id": "f74hOYOy3-gC",
        "colab_type": "code",
        "colab": {}
      },
      "source": [
        "# mount drive to store models and retrieve data\n",
        "from google.colab import drive\n",
        "drive.mount('/content/drive/')"
      ],
      "execution_count": null,
      "outputs": []
    },
    {
      "cell_type": "code",
      "metadata": {
        "id": "3wWVubrk4oyI",
        "colab_type": "code",
        "colab": {}
      },
      "source": [
        "%cd '/content/drive/My Drive/W266_Project'\n",
        "\n",
        "# THis is going to be the directory where we store all resources\n",
        "ROOT_DIR = '/content/drive/My Drive/W266_Project' \n"
      ],
      "execution_count": null,
      "outputs": []
    },
    {
      "cell_type": "code",
      "metadata": {
        "id": "gVXItGRO43Vt",
        "colab_type": "code",
        "colab": {}
      },
      "source": [
        "# The below command would ensure we are using GPUs\n",
        "gpu_info = !nvidia-smi\n",
        "gpu_info = '\\n'.join(gpu_info)\n",
        "if gpu_info.find('failed') >= 0:\n",
        "  print('Select the Runtime > \"Change runtime type\" menu to enable a GPU accelerator, ')\n",
        "  print('and then re-execute this cell.')\n",
        "else:\n",
        "  print(gpu_info)"
      ],
      "execution_count": null,
      "outputs": []
    },
    {
      "cell_type": "code",
      "metadata": {
        "id": "-USV26vu4_YG",
        "colab_type": "code",
        "colab": {}
      },
      "source": [
        "# This will check the available RAM for our experiments\n",
        "from psutil import virtual_memory\n",
        "ram_gb = virtual_memory().total / 1e9\n",
        "print('Your runtime has {:.1f} gigabytes of available RAM\\n'.format(ram_gb))\n",
        "\n",
        "if ram_gb < 20:\n",
        "  print('To enable a high-RAM runtime, select the Runtime > \"Change runtime type\"')\n",
        "  print('menu, and then select High-RAM in the Runtime shape dropdown. Then, ')\n",
        "  print('re-execute this cell.')\n",
        "else:\n",
        "  print('You are using a high-RAM runtime!')"
      ],
      "execution_count": null,
      "outputs": []
    },
    {
      "cell_type": "code",
      "metadata": {
        "id": "FSR7bZWV5Ilv",
        "colab_type": "code",
        "colab": {}
      },
      "source": [
        "# Git clone Pegasus folder\n",
        "!pwd\n",
        "!git clone https://github.com/google-research/pegasus\n",
        "\n"
      ],
      "execution_count": null,
      "outputs": []
    },
    {
      "cell_type": "code",
      "metadata": {
        "id": "F79gHeeY5O7F",
        "colab_type": "code",
        "colab": {}
      },
      "source": [
        "# Install all necessary packages for our experiments\n",
        "%cd '/content/drive/My Drive/W266_Project/pegasus'\n",
        "\n",
        "!export PYTHONPATH=.\n",
        "!pip3 uninstall tensorflow_estimator\n",
        "!pip3 install  -r requirements.txt\n",
        "!sudo apt-get install gcc python-dev python-setuptools libffi-dev\n",
        "!sudo apt-get install python-pip\n",
        "!sudo pip install gsutil\n",
        "!pip3 install apache-beam\n",
        "!pip3 install pprint"
      ],
      "execution_count": null,
      "outputs": []
    },
    {
      "cell_type": "code",
      "metadata": {
        "id": "lcYUWuWM5XJ4",
        "colab_type": "code",
        "colab": {}
      },
      "source": [
        "# Copy all models under pegasus/ckpt directory\n",
        "%cd '/content/drive/My Drive/W266_Project/pegasus'\n",
        "mkdir ckpt\n",
        "!gsutil cp -r gs://pegasus_ckpt/ ckpt/"
      ],
      "execution_count": null,
      "outputs": []
    },
    {
      "cell_type": "code",
      "metadata": {
        "id": "YcOTY25S55yU",
        "colab_type": "code",
        "colab": {}
      },
      "source": [
        ""
      ],
      "execution_count": null,
      "outputs": []
    }
  ]
}